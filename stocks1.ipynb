{
  "nbformat": 4,
  "nbformat_minor": 0,
  "metadata": {
    "colab": {
      "provenance": [],
      "authorship_tag": "ABX9TyMM1svKCZVF2uWt+rQfeD9s",
      "include_colab_link": true
    },
    "kernelspec": {
      "name": "python3",
      "display_name": "Python 3"
    },
    "language_info": {
      "name": "python"
    }
  },
  "cells": [
    {
      "cell_type": "markdown",
      "metadata": {
        "id": "view-in-github",
        "colab_type": "text"
      },
      "source": [
        "<a href=\"https://colab.research.google.com/github/Aadish1206/Stocks/blob/main/stocks1.ipynb\" target=\"_parent\"><img src=\"https://colab.research.google.com/assets/colab-badge.svg\" alt=\"Open In Colab\"/></a>"
      ]
    },
    {
      "cell_type": "code",
      "execution_count": 17,
      "metadata": {
        "id": "n0Fof_q5zMCF"
      },
      "outputs": [],
      "source": [
        "import numpy as np # linear algebra\n",
        "import pandas as pd # data processing, CSV file I/O (e.g. pd.read_csv)\n",
        "import matplotlib.pyplot as plt\n",
        "import seaborn as sns\n",
        "\n",
        "\n",
        "from sklearn.linear_model import LinearRegression\n",
        "from sklearn.metrics import mean_squared_error\n",
        "from sklearn.model_selection import train_test_split\n",
        "\n",
        "df = pd.read_csv(\"/content/ASIANPAINT.NS.csv\")\n",
        "\n"
      ]
    },
    {
      "cell_type": "code",
      "source": [
        "df.shape\n"
      ],
      "metadata": {
        "colab": {
          "base_uri": "https://localhost:8080/"
        },
        "id": "HMTGAlMrJD9v",
        "outputId": "025241d3-d522-4cb9-92b0-ac954febb30a"
      },
      "execution_count": 6,
      "outputs": [
        {
          "output_type": "execute_result",
          "data": {
            "text/plain": [
              "(247, 7)"
            ]
          },
          "metadata": {},
          "execution_count": 6
        }
      ]
    },
    {
      "cell_type": "code",
      "source": [
        "df.head()"
      ],
      "metadata": {
        "colab": {
          "base_uri": "https://localhost:8080/",
          "height": 206
        },
        "id": "k_OuxUTv0mxJ",
        "outputId": "4b1d764c-eaba-4ae2-acd2-06c6f864f557"
      },
      "execution_count": 7,
      "outputs": [
        {
          "output_type": "execute_result",
          "data": {
            "text/plain": [
              "         Date    Open         High          Low        Close    Adj Close  \\\n",
              "0  2022-08-04  3455.0  3476.949951  3410.899902  3460.500000  3432.654297   \n",
              "1  2022-08-05  3475.0  3491.949951  3451.550049  3473.899902  3445.946289   \n",
              "2  2022-08-08  3465.0  3476.949951  3436.550049  3458.449951  3430.620605   \n",
              "3  2022-08-10  3441.0  3449.850098  3396.000000  3411.649902  3384.197021   \n",
              "4  2022-08-11  3450.0  3477.949951  3390.000000  3405.199951  3377.799072   \n",
              "\n",
              "    Volume  \n",
              "0   981434  \n",
              "1   792478  \n",
              "2   724644  \n",
              "3  1089295  \n",
              "4  1410533  "
            ],
            "text/html": [
              "\n",
              "  <div id=\"df-b030c444-9b03-43aa-9270-73912a31e11a\" class=\"colab-df-container\">\n",
              "    <div>\n",
              "<style scoped>\n",
              "    .dataframe tbody tr th:only-of-type {\n",
              "        vertical-align: middle;\n",
              "    }\n",
              "\n",
              "    .dataframe tbody tr th {\n",
              "        vertical-align: top;\n",
              "    }\n",
              "\n",
              "    .dataframe thead th {\n",
              "        text-align: right;\n",
              "    }\n",
              "</style>\n",
              "<table border=\"1\" class=\"dataframe\">\n",
              "  <thead>\n",
              "    <tr style=\"text-align: right;\">\n",
              "      <th></th>\n",
              "      <th>Date</th>\n",
              "      <th>Open</th>\n",
              "      <th>High</th>\n",
              "      <th>Low</th>\n",
              "      <th>Close</th>\n",
              "      <th>Adj Close</th>\n",
              "      <th>Volume</th>\n",
              "    </tr>\n",
              "  </thead>\n",
              "  <tbody>\n",
              "    <tr>\n",
              "      <th>0</th>\n",
              "      <td>2022-08-04</td>\n",
              "      <td>3455.0</td>\n",
              "      <td>3476.949951</td>\n",
              "      <td>3410.899902</td>\n",
              "      <td>3460.500000</td>\n",
              "      <td>3432.654297</td>\n",
              "      <td>981434</td>\n",
              "    </tr>\n",
              "    <tr>\n",
              "      <th>1</th>\n",
              "      <td>2022-08-05</td>\n",
              "      <td>3475.0</td>\n",
              "      <td>3491.949951</td>\n",
              "      <td>3451.550049</td>\n",
              "      <td>3473.899902</td>\n",
              "      <td>3445.946289</td>\n",
              "      <td>792478</td>\n",
              "    </tr>\n",
              "    <tr>\n",
              "      <th>2</th>\n",
              "      <td>2022-08-08</td>\n",
              "      <td>3465.0</td>\n",
              "      <td>3476.949951</td>\n",
              "      <td>3436.550049</td>\n",
              "      <td>3458.449951</td>\n",
              "      <td>3430.620605</td>\n",
              "      <td>724644</td>\n",
              "    </tr>\n",
              "    <tr>\n",
              "      <th>3</th>\n",
              "      <td>2022-08-10</td>\n",
              "      <td>3441.0</td>\n",
              "      <td>3449.850098</td>\n",
              "      <td>3396.000000</td>\n",
              "      <td>3411.649902</td>\n",
              "      <td>3384.197021</td>\n",
              "      <td>1089295</td>\n",
              "    </tr>\n",
              "    <tr>\n",
              "      <th>4</th>\n",
              "      <td>2022-08-11</td>\n",
              "      <td>3450.0</td>\n",
              "      <td>3477.949951</td>\n",
              "      <td>3390.000000</td>\n",
              "      <td>3405.199951</td>\n",
              "      <td>3377.799072</td>\n",
              "      <td>1410533</td>\n",
              "    </tr>\n",
              "  </tbody>\n",
              "</table>\n",
              "</div>\n",
              "    <div class=\"colab-df-buttons\">\n",
              "\n",
              "  <div class=\"colab-df-container\">\n",
              "    <button class=\"colab-df-convert\" onclick=\"convertToInteractive('df-b030c444-9b03-43aa-9270-73912a31e11a')\"\n",
              "            title=\"Convert this dataframe to an interactive table.\"\n",
              "            style=\"display:none;\">\n",
              "\n",
              "  <svg xmlns=\"http://www.w3.org/2000/svg\" height=\"24px\" viewBox=\"0 -960 960 960\">\n",
              "    <path d=\"M120-120v-720h720v720H120Zm60-500h600v-160H180v160Zm220 220h160v-160H400v160Zm0 220h160v-160H400v160ZM180-400h160v-160H180v160Zm440 0h160v-160H620v160ZM180-180h160v-160H180v160Zm440 0h160v-160H620v160Z\"/>\n",
              "  </svg>\n",
              "    </button>\n",
              "\n",
              "  <style>\n",
              "    .colab-df-container {\n",
              "      display:flex;\n",
              "      gap: 12px;\n",
              "    }\n",
              "\n",
              "    .colab-df-convert {\n",
              "      background-color: #E8F0FE;\n",
              "      border: none;\n",
              "      border-radius: 50%;\n",
              "      cursor: pointer;\n",
              "      display: none;\n",
              "      fill: #1967D2;\n",
              "      height: 32px;\n",
              "      padding: 0 0 0 0;\n",
              "      width: 32px;\n",
              "    }\n",
              "\n",
              "    .colab-df-convert:hover {\n",
              "      background-color: #E2EBFA;\n",
              "      box-shadow: 0px 1px 2px rgba(60, 64, 67, 0.3), 0px 1px 3px 1px rgba(60, 64, 67, 0.15);\n",
              "      fill: #174EA6;\n",
              "    }\n",
              "\n",
              "    .colab-df-buttons div {\n",
              "      margin-bottom: 4px;\n",
              "    }\n",
              "\n",
              "    [theme=dark] .colab-df-convert {\n",
              "      background-color: #3B4455;\n",
              "      fill: #D2E3FC;\n",
              "    }\n",
              "\n",
              "    [theme=dark] .colab-df-convert:hover {\n",
              "      background-color: #434B5C;\n",
              "      box-shadow: 0px 1px 3px 1px rgba(0, 0, 0, 0.15);\n",
              "      filter: drop-shadow(0px 1px 2px rgba(0, 0, 0, 0.3));\n",
              "      fill: #FFFFFF;\n",
              "    }\n",
              "  </style>\n",
              "\n",
              "    <script>\n",
              "      const buttonEl =\n",
              "        document.querySelector('#df-b030c444-9b03-43aa-9270-73912a31e11a button.colab-df-convert');\n",
              "      buttonEl.style.display =\n",
              "        google.colab.kernel.accessAllowed ? 'block' : 'none';\n",
              "\n",
              "      async function convertToInteractive(key) {\n",
              "        const element = document.querySelector('#df-b030c444-9b03-43aa-9270-73912a31e11a');\n",
              "        const dataTable =\n",
              "          await google.colab.kernel.invokeFunction('convertToInteractive',\n",
              "                                                    [key], {});\n",
              "        if (!dataTable) return;\n",
              "\n",
              "        const docLinkHtml = 'Like what you see? Visit the ' +\n",
              "          '<a target=\"_blank\" href=https://colab.research.google.com/notebooks/data_table.ipynb>data table notebook</a>'\n",
              "          + ' to learn more about interactive tables.';\n",
              "        element.innerHTML = '';\n",
              "        dataTable['output_type'] = 'display_data';\n",
              "        await google.colab.output.renderOutput(dataTable, element);\n",
              "        const docLink = document.createElement('div');\n",
              "        docLink.innerHTML = docLinkHtml;\n",
              "        element.appendChild(docLink);\n",
              "      }\n",
              "    </script>\n",
              "  </div>\n",
              "\n",
              "\n",
              "<div id=\"df-6d7b6e44-671e-4823-8552-2e7b59355784\">\n",
              "  <button class=\"colab-df-quickchart\" onclick=\"quickchart('df-6d7b6e44-671e-4823-8552-2e7b59355784')\"\n",
              "            title=\"Suggest charts.\"\n",
              "            style=\"display:none;\">\n",
              "\n",
              "<svg xmlns=\"http://www.w3.org/2000/svg\" height=\"24px\"viewBox=\"0 0 24 24\"\n",
              "     width=\"24px\">\n",
              "    <g>\n",
              "        <path d=\"M19 3H5c-1.1 0-2 .9-2 2v14c0 1.1.9 2 2 2h14c1.1 0 2-.9 2-2V5c0-1.1-.9-2-2-2zM9 17H7v-7h2v7zm4 0h-2V7h2v10zm4 0h-2v-4h2v4z\"/>\n",
              "    </g>\n",
              "</svg>\n",
              "  </button>\n",
              "\n",
              "<style>\n",
              "  .colab-df-quickchart {\n",
              "    background-color: #E8F0FE;\n",
              "    border: none;\n",
              "    border-radius: 50%;\n",
              "    cursor: pointer;\n",
              "    display: none;\n",
              "    fill: #1967D2;\n",
              "    height: 32px;\n",
              "    padding: 0 0 0 0;\n",
              "    width: 32px;\n",
              "  }\n",
              "\n",
              "  .colab-df-quickchart:hover {\n",
              "    background-color: #E2EBFA;\n",
              "    box-shadow: 0px 1px 2px rgba(60, 64, 67, 0.3), 0px 1px 3px 1px rgba(60, 64, 67, 0.15);\n",
              "    fill: #174EA6;\n",
              "  }\n",
              "\n",
              "  [theme=dark] .colab-df-quickchart {\n",
              "    background-color: #3B4455;\n",
              "    fill: #D2E3FC;\n",
              "  }\n",
              "\n",
              "  [theme=dark] .colab-df-quickchart:hover {\n",
              "    background-color: #434B5C;\n",
              "    box-shadow: 0px 1px 3px 1px rgba(0, 0, 0, 0.15);\n",
              "    filter: drop-shadow(0px 1px 2px rgba(0, 0, 0, 0.3));\n",
              "    fill: #FFFFFF;\n",
              "  }\n",
              "</style>\n",
              "\n",
              "  <script>\n",
              "    async function quickchart(key) {\n",
              "      const charts = await google.colab.kernel.invokeFunction(\n",
              "          'suggestCharts', [key], {});\n",
              "    }\n",
              "    (() => {\n",
              "      let quickchartButtonEl =\n",
              "        document.querySelector('#df-6d7b6e44-671e-4823-8552-2e7b59355784 button');\n",
              "      quickchartButtonEl.style.display =\n",
              "        google.colab.kernel.accessAllowed ? 'block' : 'none';\n",
              "    })();\n",
              "  </script>\n",
              "</div>\n",
              "    </div>\n",
              "  </div>\n"
            ]
          },
          "metadata": {},
          "execution_count": 7
        }
      ]
    },
    {
      "cell_type": "code",
      "source": [
        "df.info()"
      ],
      "metadata": {
        "colab": {
          "base_uri": "https://localhost:8080/"
        },
        "id": "la9iFiSh0rzO",
        "outputId": "ea43f3fb-62c3-4e38-e39c-d3dc552c7d4a"
      },
      "execution_count": 8,
      "outputs": [
        {
          "output_type": "stream",
          "name": "stdout",
          "text": [
            "<class 'pandas.core.frame.DataFrame'>\n",
            "RangeIndex: 247 entries, 0 to 246\n",
            "Data columns (total 7 columns):\n",
            " #   Column     Non-Null Count  Dtype  \n",
            "---  ------     --------------  -----  \n",
            " 0   Date       247 non-null    object \n",
            " 1   Open       247 non-null    float64\n",
            " 2   High       247 non-null    float64\n",
            " 3   Low        247 non-null    float64\n",
            " 4   Close      247 non-null    float64\n",
            " 5   Adj Close  247 non-null    float64\n",
            " 6   Volume     247 non-null    int64  \n",
            "dtypes: float64(5), int64(1), object(1)\n",
            "memory usage: 13.6+ KB\n"
          ]
        }
      ]
    },
    {
      "cell_type": "code",
      "source": [
        "df.describe()"
      ],
      "metadata": {
        "colab": {
          "base_uri": "https://localhost:8080/",
          "height": 300
        },
        "id": "IyizfzRh0yLd",
        "outputId": "69166e66-8ac6-4aee-9253-f4b3c81a0db8"
      },
      "execution_count": 9,
      "outputs": [
        {
          "output_type": "execute_result",
          "data": {
            "text/plain": [
              "              Open         High          Low        Close    Adj Close  \\\n",
              "count   247.000000   247.000000   247.000000   247.000000   247.000000   \n",
              "mean   3123.124490  3147.888050  3090.326723  3119.145338  3100.917078   \n",
              "std     235.389017   239.493858   233.038121   235.810319   236.965825   \n",
              "min    2705.649902  2741.000000  2685.850098  2705.649902  2687.751221   \n",
              "25%    2912.974976  2918.199951  2853.525024  2895.625000  2876.469605   \n",
              "50%    3130.000000  3155.000000  3097.449951  3123.699951  3103.035889   \n",
              "75%    3332.000000  3370.150024  3304.449951  3337.050049  3317.775024   \n",
              "max    3563.449951  3582.899902  3515.550049  3570.649902  3543.699951   \n",
              "\n",
              "             Volume  \n",
              "count  2.470000e+02  \n",
              "mean   9.836428e+05  \n",
              "std    4.938600e+05  \n",
              "min    0.000000e+00  \n",
              "25%    6.662215e+05  \n",
              "50%    8.328430e+05  \n",
              "75%    1.096582e+06  \n",
              "max    3.229605e+06  "
            ],
            "text/html": [
              "\n",
              "  <div id=\"df-e2a4a654-4f77-46fa-a05d-6507a89a6eab\" class=\"colab-df-container\">\n",
              "    <div>\n",
              "<style scoped>\n",
              "    .dataframe tbody tr th:only-of-type {\n",
              "        vertical-align: middle;\n",
              "    }\n",
              "\n",
              "    .dataframe tbody tr th {\n",
              "        vertical-align: top;\n",
              "    }\n",
              "\n",
              "    .dataframe thead th {\n",
              "        text-align: right;\n",
              "    }\n",
              "</style>\n",
              "<table border=\"1\" class=\"dataframe\">\n",
              "  <thead>\n",
              "    <tr style=\"text-align: right;\">\n",
              "      <th></th>\n",
              "      <th>Open</th>\n",
              "      <th>High</th>\n",
              "      <th>Low</th>\n",
              "      <th>Close</th>\n",
              "      <th>Adj Close</th>\n",
              "      <th>Volume</th>\n",
              "    </tr>\n",
              "  </thead>\n",
              "  <tbody>\n",
              "    <tr>\n",
              "      <th>count</th>\n",
              "      <td>247.000000</td>\n",
              "      <td>247.000000</td>\n",
              "      <td>247.000000</td>\n",
              "      <td>247.000000</td>\n",
              "      <td>247.000000</td>\n",
              "      <td>2.470000e+02</td>\n",
              "    </tr>\n",
              "    <tr>\n",
              "      <th>mean</th>\n",
              "      <td>3123.124490</td>\n",
              "      <td>3147.888050</td>\n",
              "      <td>3090.326723</td>\n",
              "      <td>3119.145338</td>\n",
              "      <td>3100.917078</td>\n",
              "      <td>9.836428e+05</td>\n",
              "    </tr>\n",
              "    <tr>\n",
              "      <th>std</th>\n",
              "      <td>235.389017</td>\n",
              "      <td>239.493858</td>\n",
              "      <td>233.038121</td>\n",
              "      <td>235.810319</td>\n",
              "      <td>236.965825</td>\n",
              "      <td>4.938600e+05</td>\n",
              "    </tr>\n",
              "    <tr>\n",
              "      <th>min</th>\n",
              "      <td>2705.649902</td>\n",
              "      <td>2741.000000</td>\n",
              "      <td>2685.850098</td>\n",
              "      <td>2705.649902</td>\n",
              "      <td>2687.751221</td>\n",
              "      <td>0.000000e+00</td>\n",
              "    </tr>\n",
              "    <tr>\n",
              "      <th>25%</th>\n",
              "      <td>2912.974976</td>\n",
              "      <td>2918.199951</td>\n",
              "      <td>2853.525024</td>\n",
              "      <td>2895.625000</td>\n",
              "      <td>2876.469605</td>\n",
              "      <td>6.662215e+05</td>\n",
              "    </tr>\n",
              "    <tr>\n",
              "      <th>50%</th>\n",
              "      <td>3130.000000</td>\n",
              "      <td>3155.000000</td>\n",
              "      <td>3097.449951</td>\n",
              "      <td>3123.699951</td>\n",
              "      <td>3103.035889</td>\n",
              "      <td>8.328430e+05</td>\n",
              "    </tr>\n",
              "    <tr>\n",
              "      <th>75%</th>\n",
              "      <td>3332.000000</td>\n",
              "      <td>3370.150024</td>\n",
              "      <td>3304.449951</td>\n",
              "      <td>3337.050049</td>\n",
              "      <td>3317.775024</td>\n",
              "      <td>1.096582e+06</td>\n",
              "    </tr>\n",
              "    <tr>\n",
              "      <th>max</th>\n",
              "      <td>3563.449951</td>\n",
              "      <td>3582.899902</td>\n",
              "      <td>3515.550049</td>\n",
              "      <td>3570.649902</td>\n",
              "      <td>3543.699951</td>\n",
              "      <td>3.229605e+06</td>\n",
              "    </tr>\n",
              "  </tbody>\n",
              "</table>\n",
              "</div>\n",
              "    <div class=\"colab-df-buttons\">\n",
              "\n",
              "  <div class=\"colab-df-container\">\n",
              "    <button class=\"colab-df-convert\" onclick=\"convertToInteractive('df-e2a4a654-4f77-46fa-a05d-6507a89a6eab')\"\n",
              "            title=\"Convert this dataframe to an interactive table.\"\n",
              "            style=\"display:none;\">\n",
              "\n",
              "  <svg xmlns=\"http://www.w3.org/2000/svg\" height=\"24px\" viewBox=\"0 -960 960 960\">\n",
              "    <path d=\"M120-120v-720h720v720H120Zm60-500h600v-160H180v160Zm220 220h160v-160H400v160Zm0 220h160v-160H400v160ZM180-400h160v-160H180v160Zm440 0h160v-160H620v160ZM180-180h160v-160H180v160Zm440 0h160v-160H620v160Z\"/>\n",
              "  </svg>\n",
              "    </button>\n",
              "\n",
              "  <style>\n",
              "    .colab-df-container {\n",
              "      display:flex;\n",
              "      gap: 12px;\n",
              "    }\n",
              "\n",
              "    .colab-df-convert {\n",
              "      background-color: #E8F0FE;\n",
              "      border: none;\n",
              "      border-radius: 50%;\n",
              "      cursor: pointer;\n",
              "      display: none;\n",
              "      fill: #1967D2;\n",
              "      height: 32px;\n",
              "      padding: 0 0 0 0;\n",
              "      width: 32px;\n",
              "    }\n",
              "\n",
              "    .colab-df-convert:hover {\n",
              "      background-color: #E2EBFA;\n",
              "      box-shadow: 0px 1px 2px rgba(60, 64, 67, 0.3), 0px 1px 3px 1px rgba(60, 64, 67, 0.15);\n",
              "      fill: #174EA6;\n",
              "    }\n",
              "\n",
              "    .colab-df-buttons div {\n",
              "      margin-bottom: 4px;\n",
              "    }\n",
              "\n",
              "    [theme=dark] .colab-df-convert {\n",
              "      background-color: #3B4455;\n",
              "      fill: #D2E3FC;\n",
              "    }\n",
              "\n",
              "    [theme=dark] .colab-df-convert:hover {\n",
              "      background-color: #434B5C;\n",
              "      box-shadow: 0px 1px 3px 1px rgba(0, 0, 0, 0.15);\n",
              "      filter: drop-shadow(0px 1px 2px rgba(0, 0, 0, 0.3));\n",
              "      fill: #FFFFFF;\n",
              "    }\n",
              "  </style>\n",
              "\n",
              "    <script>\n",
              "      const buttonEl =\n",
              "        document.querySelector('#df-e2a4a654-4f77-46fa-a05d-6507a89a6eab button.colab-df-convert');\n",
              "      buttonEl.style.display =\n",
              "        google.colab.kernel.accessAllowed ? 'block' : 'none';\n",
              "\n",
              "      async function convertToInteractive(key) {\n",
              "        const element = document.querySelector('#df-e2a4a654-4f77-46fa-a05d-6507a89a6eab');\n",
              "        const dataTable =\n",
              "          await google.colab.kernel.invokeFunction('convertToInteractive',\n",
              "                                                    [key], {});\n",
              "        if (!dataTable) return;\n",
              "\n",
              "        const docLinkHtml = 'Like what you see? Visit the ' +\n",
              "          '<a target=\"_blank\" href=https://colab.research.google.com/notebooks/data_table.ipynb>data table notebook</a>'\n",
              "          + ' to learn more about interactive tables.';\n",
              "        element.innerHTML = '';\n",
              "        dataTable['output_type'] = 'display_data';\n",
              "        await google.colab.output.renderOutput(dataTable, element);\n",
              "        const docLink = document.createElement('div');\n",
              "        docLink.innerHTML = docLinkHtml;\n",
              "        element.appendChild(docLink);\n",
              "      }\n",
              "    </script>\n",
              "  </div>\n",
              "\n",
              "\n",
              "<div id=\"df-c93cc267-8948-4968-a522-fe0e98625f76\">\n",
              "  <button class=\"colab-df-quickchart\" onclick=\"quickchart('df-c93cc267-8948-4968-a522-fe0e98625f76')\"\n",
              "            title=\"Suggest charts.\"\n",
              "            style=\"display:none;\">\n",
              "\n",
              "<svg xmlns=\"http://www.w3.org/2000/svg\" height=\"24px\"viewBox=\"0 0 24 24\"\n",
              "     width=\"24px\">\n",
              "    <g>\n",
              "        <path d=\"M19 3H5c-1.1 0-2 .9-2 2v14c0 1.1.9 2 2 2h14c1.1 0 2-.9 2-2V5c0-1.1-.9-2-2-2zM9 17H7v-7h2v7zm4 0h-2V7h2v10zm4 0h-2v-4h2v4z\"/>\n",
              "    </g>\n",
              "</svg>\n",
              "  </button>\n",
              "\n",
              "<style>\n",
              "  .colab-df-quickchart {\n",
              "    background-color: #E8F0FE;\n",
              "    border: none;\n",
              "    border-radius: 50%;\n",
              "    cursor: pointer;\n",
              "    display: none;\n",
              "    fill: #1967D2;\n",
              "    height: 32px;\n",
              "    padding: 0 0 0 0;\n",
              "    width: 32px;\n",
              "  }\n",
              "\n",
              "  .colab-df-quickchart:hover {\n",
              "    background-color: #E2EBFA;\n",
              "    box-shadow: 0px 1px 2px rgba(60, 64, 67, 0.3), 0px 1px 3px 1px rgba(60, 64, 67, 0.15);\n",
              "    fill: #174EA6;\n",
              "  }\n",
              "\n",
              "  [theme=dark] .colab-df-quickchart {\n",
              "    background-color: #3B4455;\n",
              "    fill: #D2E3FC;\n",
              "  }\n",
              "\n",
              "  [theme=dark] .colab-df-quickchart:hover {\n",
              "    background-color: #434B5C;\n",
              "    box-shadow: 0px 1px 3px 1px rgba(0, 0, 0, 0.15);\n",
              "    filter: drop-shadow(0px 1px 2px rgba(0, 0, 0, 0.3));\n",
              "    fill: #FFFFFF;\n",
              "  }\n",
              "</style>\n",
              "\n",
              "  <script>\n",
              "    async function quickchart(key) {\n",
              "      const charts = await google.colab.kernel.invokeFunction(\n",
              "          'suggestCharts', [key], {});\n",
              "    }\n",
              "    (() => {\n",
              "      let quickchartButtonEl =\n",
              "        document.querySelector('#df-c93cc267-8948-4968-a522-fe0e98625f76 button');\n",
              "      quickchartButtonEl.style.display =\n",
              "        google.colab.kernel.accessAllowed ? 'block' : 'none';\n",
              "    })();\n",
              "  </script>\n",
              "</div>\n",
              "    </div>\n",
              "  </div>\n"
            ]
          },
          "metadata": {},
          "execution_count": 9
        }
      ]
    },
    {
      "cell_type": "code",
      "source": [
        "cor_matrix = df.corr()\n",
        "cor_matrix"
      ],
      "metadata": {
        "colab": {
          "base_uri": "https://localhost:8080/",
          "height": 292
        },
        "id": "_HaMcZ5G1BHU",
        "outputId": "d45098c4-9d06-471b-fc95-084ef1d9f308"
      },
      "execution_count": 10,
      "outputs": [
        {
          "output_type": "stream",
          "name": "stderr",
          "text": [
            "<ipython-input-10-30bf47b04e07>:1: FutureWarning: The default value of numeric_only in DataFrame.corr is deprecated. In a future version, it will default to False. Select only valid columns or specify the value of numeric_only to silence this warning.\n",
            "  cor_matrix = df.corr()\n"
          ]
        },
        {
          "output_type": "execute_result",
          "data": {
            "text/plain": [
              "               Open      High       Low     Close  Adj Close    Volume\n",
              "Open       1.000000  0.994853  0.992773  0.986531   0.985643 -0.065526\n",
              "High       0.994853  1.000000  0.993444  0.994388   0.993286 -0.039458\n",
              "Low        0.992773  0.993444  1.000000  0.995457   0.995074 -0.120249\n",
              "Close      0.986531  0.994388  0.995457  1.000000   0.999363 -0.092268\n",
              "Adj Close  0.985643  0.993286  0.995074  0.999363   1.000000 -0.096069\n",
              "Volume    -0.065526 -0.039458 -0.120249 -0.092268  -0.096069  1.000000"
            ],
            "text/html": [
              "\n",
              "  <div id=\"df-b76254c1-74d6-4f2f-8b4d-28e14a04e7dc\" class=\"colab-df-container\">\n",
              "    <div>\n",
              "<style scoped>\n",
              "    .dataframe tbody tr th:only-of-type {\n",
              "        vertical-align: middle;\n",
              "    }\n",
              "\n",
              "    .dataframe tbody tr th {\n",
              "        vertical-align: top;\n",
              "    }\n",
              "\n",
              "    .dataframe thead th {\n",
              "        text-align: right;\n",
              "    }\n",
              "</style>\n",
              "<table border=\"1\" class=\"dataframe\">\n",
              "  <thead>\n",
              "    <tr style=\"text-align: right;\">\n",
              "      <th></th>\n",
              "      <th>Open</th>\n",
              "      <th>High</th>\n",
              "      <th>Low</th>\n",
              "      <th>Close</th>\n",
              "      <th>Adj Close</th>\n",
              "      <th>Volume</th>\n",
              "    </tr>\n",
              "  </thead>\n",
              "  <tbody>\n",
              "    <tr>\n",
              "      <th>Open</th>\n",
              "      <td>1.000000</td>\n",
              "      <td>0.994853</td>\n",
              "      <td>0.992773</td>\n",
              "      <td>0.986531</td>\n",
              "      <td>0.985643</td>\n",
              "      <td>-0.065526</td>\n",
              "    </tr>\n",
              "    <tr>\n",
              "      <th>High</th>\n",
              "      <td>0.994853</td>\n",
              "      <td>1.000000</td>\n",
              "      <td>0.993444</td>\n",
              "      <td>0.994388</td>\n",
              "      <td>0.993286</td>\n",
              "      <td>-0.039458</td>\n",
              "    </tr>\n",
              "    <tr>\n",
              "      <th>Low</th>\n",
              "      <td>0.992773</td>\n",
              "      <td>0.993444</td>\n",
              "      <td>1.000000</td>\n",
              "      <td>0.995457</td>\n",
              "      <td>0.995074</td>\n",
              "      <td>-0.120249</td>\n",
              "    </tr>\n",
              "    <tr>\n",
              "      <th>Close</th>\n",
              "      <td>0.986531</td>\n",
              "      <td>0.994388</td>\n",
              "      <td>0.995457</td>\n",
              "      <td>1.000000</td>\n",
              "      <td>0.999363</td>\n",
              "      <td>-0.092268</td>\n",
              "    </tr>\n",
              "    <tr>\n",
              "      <th>Adj Close</th>\n",
              "      <td>0.985643</td>\n",
              "      <td>0.993286</td>\n",
              "      <td>0.995074</td>\n",
              "      <td>0.999363</td>\n",
              "      <td>1.000000</td>\n",
              "      <td>-0.096069</td>\n",
              "    </tr>\n",
              "    <tr>\n",
              "      <th>Volume</th>\n",
              "      <td>-0.065526</td>\n",
              "      <td>-0.039458</td>\n",
              "      <td>-0.120249</td>\n",
              "      <td>-0.092268</td>\n",
              "      <td>-0.096069</td>\n",
              "      <td>1.000000</td>\n",
              "    </tr>\n",
              "  </tbody>\n",
              "</table>\n",
              "</div>\n",
              "    <div class=\"colab-df-buttons\">\n",
              "\n",
              "  <div class=\"colab-df-container\">\n",
              "    <button class=\"colab-df-convert\" onclick=\"convertToInteractive('df-b76254c1-74d6-4f2f-8b4d-28e14a04e7dc')\"\n",
              "            title=\"Convert this dataframe to an interactive table.\"\n",
              "            style=\"display:none;\">\n",
              "\n",
              "  <svg xmlns=\"http://www.w3.org/2000/svg\" height=\"24px\" viewBox=\"0 -960 960 960\">\n",
              "    <path d=\"M120-120v-720h720v720H120Zm60-500h600v-160H180v160Zm220 220h160v-160H400v160Zm0 220h160v-160H400v160ZM180-400h160v-160H180v160Zm440 0h160v-160H620v160ZM180-180h160v-160H180v160Zm440 0h160v-160H620v160Z\"/>\n",
              "  </svg>\n",
              "    </button>\n",
              "\n",
              "  <style>\n",
              "    .colab-df-container {\n",
              "      display:flex;\n",
              "      gap: 12px;\n",
              "    }\n",
              "\n",
              "    .colab-df-convert {\n",
              "      background-color: #E8F0FE;\n",
              "      border: none;\n",
              "      border-radius: 50%;\n",
              "      cursor: pointer;\n",
              "      display: none;\n",
              "      fill: #1967D2;\n",
              "      height: 32px;\n",
              "      padding: 0 0 0 0;\n",
              "      width: 32px;\n",
              "    }\n",
              "\n",
              "    .colab-df-convert:hover {\n",
              "      background-color: #E2EBFA;\n",
              "      box-shadow: 0px 1px 2px rgba(60, 64, 67, 0.3), 0px 1px 3px 1px rgba(60, 64, 67, 0.15);\n",
              "      fill: #174EA6;\n",
              "    }\n",
              "\n",
              "    .colab-df-buttons div {\n",
              "      margin-bottom: 4px;\n",
              "    }\n",
              "\n",
              "    [theme=dark] .colab-df-convert {\n",
              "      background-color: #3B4455;\n",
              "      fill: #D2E3FC;\n",
              "    }\n",
              "\n",
              "    [theme=dark] .colab-df-convert:hover {\n",
              "      background-color: #434B5C;\n",
              "      box-shadow: 0px 1px 3px 1px rgba(0, 0, 0, 0.15);\n",
              "      filter: drop-shadow(0px 1px 2px rgba(0, 0, 0, 0.3));\n",
              "      fill: #FFFFFF;\n",
              "    }\n",
              "  </style>\n",
              "\n",
              "    <script>\n",
              "      const buttonEl =\n",
              "        document.querySelector('#df-b76254c1-74d6-4f2f-8b4d-28e14a04e7dc button.colab-df-convert');\n",
              "      buttonEl.style.display =\n",
              "        google.colab.kernel.accessAllowed ? 'block' : 'none';\n",
              "\n",
              "      async function convertToInteractive(key) {\n",
              "        const element = document.querySelector('#df-b76254c1-74d6-4f2f-8b4d-28e14a04e7dc');\n",
              "        const dataTable =\n",
              "          await google.colab.kernel.invokeFunction('convertToInteractive',\n",
              "                                                    [key], {});\n",
              "        if (!dataTable) return;\n",
              "\n",
              "        const docLinkHtml = 'Like what you see? Visit the ' +\n",
              "          '<a target=\"_blank\" href=https://colab.research.google.com/notebooks/data_table.ipynb>data table notebook</a>'\n",
              "          + ' to learn more about interactive tables.';\n",
              "        element.innerHTML = '';\n",
              "        dataTable['output_type'] = 'display_data';\n",
              "        await google.colab.output.renderOutput(dataTable, element);\n",
              "        const docLink = document.createElement('div');\n",
              "        docLink.innerHTML = docLinkHtml;\n",
              "        element.appendChild(docLink);\n",
              "      }\n",
              "    </script>\n",
              "  </div>\n",
              "\n",
              "\n",
              "<div id=\"df-ae449207-8311-4fbf-92af-2540a6022012\">\n",
              "  <button class=\"colab-df-quickchart\" onclick=\"quickchart('df-ae449207-8311-4fbf-92af-2540a6022012')\"\n",
              "            title=\"Suggest charts.\"\n",
              "            style=\"display:none;\">\n",
              "\n",
              "<svg xmlns=\"http://www.w3.org/2000/svg\" height=\"24px\"viewBox=\"0 0 24 24\"\n",
              "     width=\"24px\">\n",
              "    <g>\n",
              "        <path d=\"M19 3H5c-1.1 0-2 .9-2 2v14c0 1.1.9 2 2 2h14c1.1 0 2-.9 2-2V5c0-1.1-.9-2-2-2zM9 17H7v-7h2v7zm4 0h-2V7h2v10zm4 0h-2v-4h2v4z\"/>\n",
              "    </g>\n",
              "</svg>\n",
              "  </button>\n",
              "\n",
              "<style>\n",
              "  .colab-df-quickchart {\n",
              "    background-color: #E8F0FE;\n",
              "    border: none;\n",
              "    border-radius: 50%;\n",
              "    cursor: pointer;\n",
              "    display: none;\n",
              "    fill: #1967D2;\n",
              "    height: 32px;\n",
              "    padding: 0 0 0 0;\n",
              "    width: 32px;\n",
              "  }\n",
              "\n",
              "  .colab-df-quickchart:hover {\n",
              "    background-color: #E2EBFA;\n",
              "    box-shadow: 0px 1px 2px rgba(60, 64, 67, 0.3), 0px 1px 3px 1px rgba(60, 64, 67, 0.15);\n",
              "    fill: #174EA6;\n",
              "  }\n",
              "\n",
              "  [theme=dark] .colab-df-quickchart {\n",
              "    background-color: #3B4455;\n",
              "    fill: #D2E3FC;\n",
              "  }\n",
              "\n",
              "  [theme=dark] .colab-df-quickchart:hover {\n",
              "    background-color: #434B5C;\n",
              "    box-shadow: 0px 1px 3px 1px rgba(0, 0, 0, 0.15);\n",
              "    filter: drop-shadow(0px 1px 2px rgba(0, 0, 0, 0.3));\n",
              "    fill: #FFFFFF;\n",
              "  }\n",
              "</style>\n",
              "\n",
              "  <script>\n",
              "    async function quickchart(key) {\n",
              "      const charts = await google.colab.kernel.invokeFunction(\n",
              "          'suggestCharts', [key], {});\n",
              "    }\n",
              "    (() => {\n",
              "      let quickchartButtonEl =\n",
              "        document.querySelector('#df-ae449207-8311-4fbf-92af-2540a6022012 button');\n",
              "      quickchartButtonEl.style.display =\n",
              "        google.colab.kernel.accessAllowed ? 'block' : 'none';\n",
              "    })();\n",
              "  </script>\n",
              "</div>\n",
              "    </div>\n",
              "  </div>\n"
            ]
          },
          "metadata": {},
          "execution_count": 10
        }
      ]
    },
    {
      "cell_type": "code",
      "source": [
        "sns.heatmap(cor_matrix , cmap = 'coolwarm' , annot = False)\n",
        "plt.title('Correlation of Variables ')"
      ],
      "metadata": {
        "colab": {
          "base_uri": "https://localhost:8080/",
          "height": 469
        },
        "id": "3FIeXJty1HpB",
        "outputId": "38b60819-a2b3-4117-b07d-41d33e54a6a5"
      },
      "execution_count": 13,
      "outputs": [
        {
          "output_type": "execute_result",
          "data": {
            "text/plain": [
              "Text(0.5, 1.0, 'Correlation of Variables ')"
            ]
          },
          "metadata": {},
          "execution_count": 13
        },
        {
          "output_type": "display_data",
          "data": {
            "text/plain": [
              "<Figure size 640x480 with 2 Axes>"
            ],
            "image/png": "[encoded data removed]"
          },
          "metadata": {}
        }
      ]
    },
    {
      "cell_type": "code",
      "source": [
        "y = df[['Close']]\n",
        "x = df[['Open','High','Low','Adj Close','Volume']]"
      ],
      "metadata": {
        "id": "pxHNxT_v1vek"
      },
      "execution_count": 15,
      "outputs": []
    },
    {
      "cell_type": "code",
      "source": [
        "x_train,x_test,y_train,y_test = train_test_split(x,y,test_size = 0.3 , random_state  = 0)"
      ],
      "metadata": {
        "id": "ZVgkwkhM191g"
      },
      "execution_count": 18,
      "outputs": []
    },
    {
      "cell_type": "code",
      "source": [
        "x_train.shape"
      ],
      "metadata": {
        "colab": {
          "base_uri": "https://localhost:8080/"
        },
        "id": "Jqe7ioxT2SS8",
        "outputId": "8dc741b1-aaf6-42b9-c04e-3920639777a4"
      },
      "execution_count": 19,
      "outputs": [
        {
          "output_type": "execute_result",
          "data": {
            "text/plain": [
              "(172, 5)"
            ]
          },
          "metadata": {},
          "execution_count": 19
        }
      ]
    },
    {
      "cell_type": "code",
      "source": [
        "x_test.shape"
      ],
      "metadata": {
        "colab": {
          "base_uri": "https://localhost:8080/"
        },
        "id": "Ni6GUsO_2UVC",
        "outputId": "6f06a8bc-605b-44ea-9a7a-e88ad02316d2"
      },
      "execution_count": 20,
      "outputs": [
        {
          "output_type": "execute_result",
          "data": {
            "text/plain": [
              "(75, 5)"
            ]
          },
          "metadata": {},
          "execution_count": 20
        }
      ]
    },
    {
      "cell_type": "code",
      "source": [
        "lm = LinearRegression()\n",
        "lm.fit(x_train,y_train)\n",
        "\n",
        "print('Intercept: ' ,  lm.intercept_)\n",
        "print('coefficient : ' ,  lm.coef_)"
      ],
      "metadata": {
        "colab": {
          "base_uri": "https://localhost:8080/"
        },
        "id": "qfeiOMRj2Xf1",
        "outputId": "9ae20d7d-b231-42fa-fb94-a558d376ea11"
      },
      "execution_count": 21,
      "outputs": [
        {
          "output_type": "stream",
          "name": "stdout",
          "text": [
            "Intercept:  [33.94259216]\n",
            "coefficient :  [[-2.05480656e-01  3.57863410e-01  1.59674980e-01  6.80483443e-01\n",
            "  -2.98363811e-06]]\n"
          ]
        }
      ]
    },
    {
      "cell_type": "code",
      "source": [
        "yhat = lm.predict(x_test)\n",
        "\n",
        "print(yhat)"
      ],
      "metadata": {
        "colab": {
          "base_uri": "https://localhost:8080/"
        },
        "id": "zLqsOZLP2cHJ",
        "outputId": "930f72c6-cda2-40a7-8212-1926507b5c54"
      },
      "execution_count": 22,
      "outputs": [
        {
          "output_type": "stream",
          "name": "stdout",
          "text": [
            "[[3131.10378591]\n",
            " [2910.99738666]\n",
            " [3107.78253935]\n",
            " [2900.24237633]\n",
            " [3089.14113795]\n",
            " [2805.26796745]\n",
            " [2933.79560682]\n",
            " [2744.70897519]\n",
            " [2849.59407126]\n",
            " [2749.77695709]\n",
            " [3523.47800649]\n",
            " [3231.59644812]\n",
            " [2760.37095343]\n",
            " [3242.81964276]\n",
            " [3190.54546543]\n",
            " [3130.21699411]\n",
            " [3016.97464886]\n",
            " [3392.37341906]\n",
            " [3099.68279746]\n",
            " [3087.40449886]\n",
            " [3366.47592756]\n",
            " [3305.18370174]\n",
            " [2798.81732654]\n",
            " [2706.85402369]\n",
            " [3305.44273203]\n",
            " [3095.12729513]\n",
            " [2958.93641039]\n",
            " [2780.62451486]\n",
            " [3523.37034957]\n",
            " [2716.54213055]\n",
            " [3114.82696938]\n",
            " [2748.66945646]\n",
            " [3199.31995846]\n",
            " [3417.07257406]\n",
            " [3444.80046695]\n",
            " [2746.15920216]\n",
            " [3363.55675544]\n",
            " [3352.62514294]\n",
            " [2853.95493884]\n",
            " [2984.80432087]\n",
            " [2795.7384513 ]\n",
            " [2857.01013087]\n",
            " [3042.4962734 ]\n",
            " [3199.51319231]\n",
            " [2788.32937145]\n",
            " [3052.78003922]\n",
            " [3266.65908621]\n",
            " [3043.71773505]\n",
            " [3042.93337088]\n",
            " [3426.26801316]\n",
            " [2913.00230941]\n",
            " [3335.46193248]\n",
            " [2867.00957651]\n",
            " [3515.61177023]\n",
            " [2888.34599095]\n",
            " [2892.13504703]\n",
            " [3097.3884392 ]\n",
            " [2805.93651083]\n",
            " [3402.48590983]\n",
            " [2940.91230732]\n",
            " [2795.77514346]\n",
            " [2771.04003975]\n",
            " [3388.85392705]\n",
            " [2851.0809104 ]\n",
            " [3147.65873115]\n",
            " [2788.35537601]\n",
            " [3396.8986282 ]\n",
            " [3524.3136042 ]\n",
            " [3471.24687973]\n",
            " [3389.81115323]\n",
            " [3386.68907314]\n",
            " [3070.56481808]\n",
            " [3386.44240882]\n",
            " [3058.56117422]\n",
            " [3405.29136424]]\n"
          ]
        }
      ]
    },
    {
      "cell_type": "code",
      "source": [
        "print({'Actual': y_test, 'Predicted': yhat})"
      ],
      "metadata": {
        "colab": {
          "base_uri": "https://localhost:8080/"
        },
        "id": "0IMqpJDs2fj9",
        "outputId": "f615334b-0421-47f0-e997-5efb3881e21b"
      },
      "execution_count": 23,
      "outputs": [
        {
          "output_type": "stream",
          "name": "stdout",
          "text": [
            "{'Actual':            Close\n",
            "89   3130.600098\n",
            "109  2915.949951\n",
            "74   3115.300049\n",
            "110  2909.149902\n",
            "71   3095.300049\n",
            "..           ...\n",
            "16   3391.600098\n",
            "92   3082.149902\n",
            "240  3373.000000\n",
            "90   3055.899902\n",
            "4    3405.199951\n",
            "\n",
            "[75 rows x 1 columns], 'Predicted': array([[3131.10378591],\n",
            "       [2910.99738666],\n",
            "       [3107.78253935],\n",
            "       [2900.24237633],\n",
            "       [3089.14113795],\n",
            "       [2805.26796745],\n",
            "       [2933.79560682],\n",
            "       [2744.70897519],\n",
            "       [2849.59407126],\n",
            "       [2749.77695709],\n",
            "       [3523.47800649],\n",
            "       [3231.59644812],\n",
            "       [2760.37095343],\n",
            "       [3242.81964276],\n",
            "       [3190.54546543],\n",
            "       [3130.21699411],\n",
            "       [3016.97464886],\n",
            "       [3392.37341906],\n",
            "       [3099.68279746],\n",
            "       [3087.40449886],\n",
            "       [3366.47592756],\n",
            "       [3305.18370174],\n",
            "       [2798.81732654],\n",
            "       [2706.85402369],\n",
            "       [3305.44273203],\n",
            "       [3095.12729513],\n",
            "       [2958.93641039],\n",
            "       [2780.62451486],\n",
            "       [3523.37034957],\n",
            "       [2716.54213055],\n",
            "       [3114.82696938],\n",
            "       [2748.66945646],\n",
            "       [3199.31995846],\n",
            "       [3417.07257406],\n",
            "       [3444.80046695],\n",
            "       [2746.15920216],\n",
            "       [3363.55675544],\n",
            "       [3352.62514294],\n",
            "       [2853.95493884],\n",
            "       [2984.80432087],\n",
            "       [2795.7384513 ],\n",
            "       [2857.01013087],\n",
            "       [3042.4962734 ],\n",
            "       [3199.51319231],\n",
            "       [2788.32937145],\n",
            "       [3052.78003922],\n",
            "       [3266.65908621],\n",
            "       [3043.71773505],\n",
            "       [3042.93337088],\n",
            "       [3426.26801316],\n",
            "       [2913.00230941],\n",
            "       [3335.46193248],\n",
            "       [2867.00957651],\n",
            "       [3515.61177023],\n",
            "       [2888.34599095],\n",
            "       [2892.13504703],\n",
            "       [3097.3884392 ],\n",
            "       [2805.93651083],\n",
            "       [3402.48590983],\n",
            "       [2940.91230732],\n",
            "       [2795.77514346],\n",
            "       [2771.04003975],\n",
            "       [3388.85392705],\n",
            "       [2851.0809104 ],\n",
            "       [3147.65873115],\n",
            "       [2788.35537601],\n",
            "       [3396.8986282 ],\n",
            "       [3524.3136042 ],\n",
            "       [3471.24687973],\n",
            "       [3389.81115323],\n",
            "       [3386.68907314],\n",
            "       [3070.56481808],\n",
            "       [3386.44240882],\n",
            "       [3058.56117422],\n",
            "       [3405.29136424]])}\n"
          ]
        }
      ]
    },
    {
      "cell_type": "code",
      "source": [
        "axl = sns.distplot(y_test, hist = False , color  = 'r')\n",
        "\n",
        "sns.distplot(yhat, hist = False , color = 'b', ax = axl)"
      ],
      "metadata": {
        "colab": {
          "base_uri": "https://localhost:8080/",
          "height": 829
        },
        "id": "479B2-ZJ2jgD",
        "outputId": "acda14f3-53e9-4e18-cc96-e0454a6ed798"
      },
      "execution_count": 24,
      "outputs": [
        {
          "output_type": "stream",
          "name": "stderr",
          "text": [
            "<ipython-input-24-7a78e9fa1bab>:1: UserWarning: \n",
            "\n",
            "`distplot` is a deprecated function and will be removed in seaborn v0.14.0.\n",
            "\n",
            "Please adapt your code to use either `displot` (a figure-level function with\n",
            "similar flexibility) or `kdeplot` (an axes-level function for kernel density plots).\n",
            "\n",
            "For a guide to updating your code to use the new functions, please see\n",
            "https://gist.github.com/mwaskom/de44147ed2974457ad6372750bbe5751\n",
            "\n",
            "  axl = sns.distplot(y_test, hist = False , color  = 'r')\n",
            "<ipython-input-24-7a78e9fa1bab>:3: UserWarning: \n",
            "\n",
            "`distplot` is a deprecated function and will be removed in seaborn v0.14.0.\n",
            "\n",
            "Please adapt your code to use either `displot` (a figure-level function with\n",
            "similar flexibility) or `kdeplot` (an axes-level function for kernel density plots).\n",
            "\n",
            "For a guide to updating your code to use the new functions, please see\n",
            "https://gist.github.com/mwaskom/de44147ed2974457ad6372750bbe5751\n",
            "\n",
            "  sns.distplot(yhat, hist = False , color = 'b', ax = axl)\n"
          ]
        },
        {
          "output_type": "execute_result",
          "data": {
            "text/plain": [
              "<Axes: ylabel='Density'>"
            ]
          },
          "metadata": {},
          "execution_count": 24
        },
        {
          "output_type": "display_data",
          "data": {
            "text/plain": [
              "<Figure size 640x480 with 1 Axes>"
            ],
            "image/png": "[encoded data removed]"
          },
          "metadata": {}
        }
      ]
    },
    {
      "cell_type": "code",
      "source": [
        "mean_squared_error(y_test, yhat )"
      ],
      "metadata": {
        "colab": {
          "base_uri": "https://localhost:8080/"
        },
        "id": "74ZJCiBI2yXb",
        "outputId": "e104686b-9432-477e-b64f-37d1a1954da0"
      },
      "execution_count": 25,
      "outputs": [
        {
          "output_type": "execute_result",
          "data": {
            "text/plain": [
              "68.51658941015422"
            ]
          },
          "metadata": {},
          "execution_count": 25
        }
      ]
    },
    {
      "cell_type": "code",
      "source": [
        "rsqr = lm.score(x,y)\n",
        "\n",
        "print('R - Squared :' , rsqr)"
      ],
      "metadata": {
        "colab": {
          "base_uri": "https://localhost:8080/"
        },
        "id": "iq7mehKO209J",
        "outputId": "f88fdaee-e904-4099-fe32-3c7eeacdf1ac"
      },
      "execution_count": 26,
      "outputs": [
        {
          "output_type": "stream",
          "name": "stdout",
          "text": [
            "R - Squared : 0.9990752928894481\n"
          ]
        }
      ]
    },
    {
      "cell_type": "code",
      "source": [
        "sns.regplot( x = y_test, y = yhat , data = df)\n",
        "plt.title('Relatioship of Y_test and Yhat')\n",
        "plt.ylabel('y_test')\n",
        "plt.xlabel('yhat')"
      ],
      "metadata": {
        "colab": {
          "base_uri": "https://localhost:8080/",
          "height": 489
        },
        "id": "JR8_fPeJ23g6",
        "outputId": "6c6351cb-0a8c-4a39-9d11-2fce7deede1e"
      },
      "execution_count": 27,
      "outputs": [
        {
          "output_type": "execute_result",
          "data": {
            "text/plain": [
              "Text(0.5, 0, 'yhat')"
            ]
          },
          "metadata": {},
          "execution_count": 27
        },
        {
          "output_type": "display_data",
          "data": {
            "text/plain": [
              "<Figure size 640x480 with 1 Axes>"
            ],
            "image/png": "[encoded data removed]"
          },
          "metadata": {}
        }
      ]
    },
    {
      "cell_type": "code",
      "source": [
        "values = [[3326,3335,3302,3308,3324]]\n",
        "\n",
        "closep = lm.predict(values)\n",
        "\n",
        "print('Closing Price :', closep)"
      ],
      "metadata": {
        "colab": {
          "base_uri": "https://localhost:8080/"
        },
        "id": "S77OziI-3ALa",
        "outputId": "3c237200-e8d8-4a9c-eb07-c1cfe3593439"
      },
      "execution_count": 28,
      "outputs": [
        {
          "output_type": "stream",
          "name": "stdout",
          "text": [
            "Closing Price : [[3322.26449994]]\n"
          ]
        },
        {
          "output_type": "stream",
          "name": "stderr",
          "text": [
            "/usr/local/lib/python3.10/dist-packages/sklearn/base.py:439: UserWarning: X does not have valid feature names, but LinearRegression was fitted with feature names\n",
            "  warnings.warn(\n"
          ]
        }
      ]
    }
  ]
}
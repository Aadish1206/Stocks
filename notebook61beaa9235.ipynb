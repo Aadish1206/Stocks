{
 "cells": [
  {
   "cell_type": "code",
   "execution_count": 1,
   "id": "6d3c1ab0",
   "metadata": {
    "_cell_guid": "b1076dfc-b9ad-4769-8c92-a6c4dae69d19",
    "_uuid": "8f2839f25d086af736a60e9eeb907d3b93b6e0e5",
    "execution": {
     "iopub.execute_input": "2023-08-11T19:08:54.968597Z",
     "iopub.status.busy": "2023-08-11T19:08:54.967877Z",
     "iopub.status.idle": "2023-08-11T19:08:56.604093Z",
     "shell.execute_reply": "2023-08-11T19:08:56.602643Z"
    },
    "papermill": {
     "duration": 1.646208,
     "end_time": "2023-08-11T19:08:56.606853",
     "exception": false,
     "start_time": "2023-08-11T19:08:54.960645",
     "status": "completed"
    },
    "tags": []
   },
   "outputs": [
    {
     "name": "stderr",
     "output_type": "stream",
     "text": [
      "/opt/conda/lib/python3.10/site-packages/scipy/__init__.py:146: UserWarning: A NumPy version >=1.16.5 and <1.23.0 is required for this version of SciPy (detected version 1.23.5\n",
      "  warnings.warn(f\"A NumPy version >={np_minversion} and <{np_maxversion}\"\n"
     ]
    },
    {
     "name": "stdout",
     "output_type": "stream",
     "text": [
      "/kaggle/input/nifty50-stock-market-data/HDFCBANK.csv\n",
      "/kaggle/input/nifty50-stock-market-data/GRASIM.csv\n",
      "/kaggle/input/nifty50-stock-market-data/WIPRO.csv\n",
      "/kaggle/input/nifty50-stock-market-data/stock_metadata.csv\n",
      "/kaggle/input/nifty50-stock-market-data/BPCL.csv\n",
      "/kaggle/input/nifty50-stock-market-data/INFY.csv\n",
      "/kaggle/input/nifty50-stock-market-data/LT.csv\n",
      "/kaggle/input/nifty50-stock-market-data/RELIANCE.csv\n",
      "/kaggle/input/nifty50-stock-market-data/BRITANNIA.csv\n",
      "/kaggle/input/nifty50-stock-market-data/INFRATEL.csv\n",
      "/kaggle/input/nifty50-stock-market-data/HEROMOTOCO.csv\n",
      "/kaggle/input/nifty50-stock-market-data/HINDUNILVR.csv\n",
      "/kaggle/input/nifty50-stock-market-data/TATAMOTORS.csv\n",
      "/kaggle/input/nifty50-stock-market-data/MM.csv\n",
      "/kaggle/input/nifty50-stock-market-data/HDFC.csv\n",
      "/kaggle/input/nifty50-stock-market-data/JSWSTEEL.csv\n",
      "/kaggle/input/nifty50-stock-market-data/TITAN.csv\n",
      "/kaggle/input/nifty50-stock-market-data/HINDALCO.csv\n",
      "/kaggle/input/nifty50-stock-market-data/AXISBANK.csv\n",
      "/kaggle/input/nifty50-stock-market-data/HCLTECH.csv\n",
      "/kaggle/input/nifty50-stock-market-data/ADANIPORTS.csv\n",
      "/kaggle/input/nifty50-stock-market-data/GAIL.csv\n",
      "/kaggle/input/nifty50-stock-market-data/NIFTY50_all.csv\n",
      "/kaggle/input/nifty50-stock-market-data/BAJAJFINSV.csv\n",
      "/kaggle/input/nifty50-stock-market-data/BAJFINANCE.csv\n",
      "/kaggle/input/nifty50-stock-market-data/ICICIBANK.csv\n",
      "/kaggle/input/nifty50-stock-market-data/ZEEL.csv\n",
      "/kaggle/input/nifty50-stock-market-data/ASIANPAINT.csv\n",
      "/kaggle/input/nifty50-stock-market-data/IOC.csv\n",
      "/kaggle/input/nifty50-stock-market-data/TATASTEEL.csv\n",
      "/kaggle/input/nifty50-stock-market-data/COALINDIA.csv\n",
      "/kaggle/input/nifty50-stock-market-data/NESTLEIND.csv\n",
      "/kaggle/input/nifty50-stock-market-data/DRREDDY.csv\n",
      "/kaggle/input/nifty50-stock-market-data/ONGC.csv\n",
      "/kaggle/input/nifty50-stock-market-data/EICHERMOT.csv\n",
      "/kaggle/input/nifty50-stock-market-data/UPL.csv\n",
      "/kaggle/input/nifty50-stock-market-data/SUNPHARMA.csv\n",
      "/kaggle/input/nifty50-stock-market-data/ULTRACEMCO.csv\n",
      "/kaggle/input/nifty50-stock-market-data/CIPLA.csv\n",
      "/kaggle/input/nifty50-stock-market-data/SHREECEM.csv\n",
      "/kaggle/input/nifty50-stock-market-data/VEDL.csv\n",
      "/kaggle/input/nifty50-stock-market-data/TCS.csv\n",
      "/kaggle/input/nifty50-stock-market-data/NTPC.csv\n",
      "/kaggle/input/nifty50-stock-market-data/MARUTI.csv\n",
      "/kaggle/input/nifty50-stock-market-data/KOTAKBANK.csv\n",
      "/kaggle/input/nifty50-stock-market-data/ITC.csv\n",
      "/kaggle/input/nifty50-stock-market-data/BAJAJ-AUTO.csv\n",
      "/kaggle/input/nifty50-stock-market-data/SBIN.csv\n",
      "/kaggle/input/nifty50-stock-market-data/INDUSINDBK.csv\n",
      "/kaggle/input/nifty50-stock-market-data/BHARTIARTL.csv\n",
      "/kaggle/input/nifty50-stock-market-data/TECHM.csv\n",
      "/kaggle/input/nifty50-stock-market-data/POWERGRID.csv\n"
     ]
    }
   ],
   "source": [
    "# This Python 3 environment comes with many helpful analytics libraries installed\n",
    "# It is defined by the kaggle/python Docker image: https://github.com/kaggle/docker-python\n",
    "# For example, here's several helpful packages to load\n",
    "\n",
    "import numpy as np # linear algebra\n",
    "import pandas as pd \n",
    "import seaborn as sns\n",
    "import matplotlib.pyplot as plt\n",
    "# data processing, CSV file I/O (e.g. pd.read_csv)\n",
    "\n",
    "# Input data files are available in the read-only \"../input/\" directory\n",
    "# For example, running this (by clicking run or pressing Shift+Enter) will list all files under the input directory\n",
    "\n",
    "import os\n",
    "for dirname, _, filenames in os.walk('/kaggle/input'):\n",
    "    for filename in filenames:\n",
    "        print(os.path.join(dirname, filename))\n",
    "\n",
    "# You can write up to 20GB to the current directory (/kaggle/working/) that gets preserved as output when you create a version using \"Save & Run All\" \n",
    "# You can also write temporary files to /kaggle/temp/, but they won't be saved outside of the current session"
   ]
  },
  {
   "cell_type": "code",
   "execution_count": null,
   "id": "f76deb03",
   "metadata": {
    "execution": {
     "iopub.execute_input": "2023-07-20T19:42:16.387106Z",
     "iopub.status.busy": "2023-07-20T19:42:16.386686Z",
     "iopub.status.idle": "2023-07-20T19:42:16.393870Z",
     "shell.execute_reply": "2023-07-20T19:42:16.392796Z",
     "shell.execute_reply.started": "2023-07-20T19:42:16.387072Z"
    },
    "papermill": {
     "duration": 0.004811,
     "end_time": "2023-08-11T19:08:56.617209",
     "exception": false,
     "start_time": "2023-08-11T19:08:56.612398",
     "status": "completed"
    },
    "tags": []
   },
   "outputs": [],
   "source": []
  },
  {
   "cell_type": "code",
   "execution_count": 2,
   "id": "f4364198",
   "metadata": {
    "execution": {
     "iopub.execute_input": "2023-08-11T19:08:56.629267Z",
     "iopub.status.busy": "2023-08-11T19:08:56.628878Z",
     "iopub.status.idle": "2023-08-11T19:08:56.675244Z",
     "shell.execute_reply": "2023-08-11T19:08:56.674088Z"
    },
    "papermill": {
     "duration": 0.055786,
     "end_time": "2023-08-11T19:08:56.678178",
     "exception": false,
     "start_time": "2023-08-11T19:08:56.622392",
     "status": "completed"
    },
    "tags": []
   },
   "outputs": [],
   "source": [
    "df = pd.read_csv('/kaggle/input/nifty50-stock-market-data/TCS.csv')"
   ]
  },
  {
   "cell_type": "code",
   "execution_count": 3,
   "id": "e37d8f19",
   "metadata": {
    "execution": {
     "iopub.execute_input": "2023-08-11T19:08:56.690184Z",
     "iopub.status.busy": "2023-08-11T19:08:56.689793Z",
     "iopub.status.idle": "2023-08-11T19:08:56.698209Z",
     "shell.execute_reply": "2023-08-11T19:08:56.696994Z"
    },
    "papermill": {
     "duration": 0.017161,
     "end_time": "2023-08-11T19:08:56.700504",
     "exception": false,
     "start_time": "2023-08-11T19:08:56.683343",
     "status": "completed"
    },
    "tags": []
   },
   "outputs": [
    {
     "data": {
      "text/plain": [
       "(4139, 15)"
      ]
     },
     "execution_count": 3,
     "metadata": {},
     "output_type": "execute_result"
    }
   ],
   "source": [
    "#Dimention of dataset\n",
    "df.shape"
   ]
  },
  {
   "cell_type": "code",
   "execution_count": 4,
   "id": "1708430e",
   "metadata": {
    "execution": {
     "iopub.execute_input": "2023-08-11T19:08:56.713223Z",
     "iopub.status.busy": "2023-08-11T19:08:56.712787Z",
     "iopub.status.idle": "2023-08-11T19:08:56.747533Z",
     "shell.execute_reply": "2023-08-11T19:08:56.746323Z"
    },
    "papermill": {
     "duration": 0.04482,
     "end_time": "2023-08-11T19:08:56.750663",
     "exception": false,
     "start_time": "2023-08-11T19:08:56.705843",
     "status": "completed"
    },
    "tags": []
   },
   "outputs": [
    {
     "data": {
      "text/html": [
       "<div>\n",
       "<style scoped>\n",
       "    .dataframe tbody tr th:only-of-type {\n",
       "        vertical-align: middle;\n",
       "    }\n",
       "\n",
       "    .dataframe tbody tr th {\n",
       "        vertical-align: top;\n",
       "    }\n",
       "\n",
       "    .dataframe thead th {\n",
       "        text-align: right;\n",
       "    }\n",
       "</style>\n",
       "<table border=\"1\" class=\"dataframe\">\n",
       "  <thead>\n",
       "    <tr style=\"text-align: right;\">\n",
       "      <th></th>\n",
       "      <th>Date</th>\n",
       "      <th>Symbol</th>\n",
       "      <th>Series</th>\n",
       "      <th>Prev Close</th>\n",
       "      <th>Open</th>\n",
       "      <th>High</th>\n",
       "      <th>Low</th>\n",
       "      <th>Last</th>\n",
       "      <th>Close</th>\n",
       "      <th>VWAP</th>\n",
       "      <th>Volume</th>\n",
       "      <th>Turnover</th>\n",
       "      <th>Trades</th>\n",
       "      <th>Deliverable Volume</th>\n",
       "      <th>%Deliverble</th>\n",
       "    </tr>\n",
       "  </thead>\n",
       "  <tbody>\n",
       "    <tr>\n",
       "      <th>0</th>\n",
       "      <td>2004-08-25</td>\n",
       "      <td>TCS</td>\n",
       "      <td>EQ</td>\n",
       "      <td>850.00</td>\n",
       "      <td>1198.7</td>\n",
       "      <td>1198.7</td>\n",
       "      <td>979.00</td>\n",
       "      <td>985.00</td>\n",
       "      <td>987.95</td>\n",
       "      <td>1008.32</td>\n",
       "      <td>17116372</td>\n",
       "      <td>1.725876e+15</td>\n",
       "      <td>NaN</td>\n",
       "      <td>5206360</td>\n",
       "      <td>0.3042</td>\n",
       "    </tr>\n",
       "    <tr>\n",
       "      <th>1</th>\n",
       "      <td>2004-08-26</td>\n",
       "      <td>TCS</td>\n",
       "      <td>EQ</td>\n",
       "      <td>987.95</td>\n",
       "      <td>992.0</td>\n",
       "      <td>997.0</td>\n",
       "      <td>975.30</td>\n",
       "      <td>976.85</td>\n",
       "      <td>979.00</td>\n",
       "      <td>985.65</td>\n",
       "      <td>5055400</td>\n",
       "      <td>4.982865e+14</td>\n",
       "      <td>NaN</td>\n",
       "      <td>1294899</td>\n",
       "      <td>0.2561</td>\n",
       "    </tr>\n",
       "    <tr>\n",
       "      <th>2</th>\n",
       "      <td>2004-08-27</td>\n",
       "      <td>TCS</td>\n",
       "      <td>EQ</td>\n",
       "      <td>979.00</td>\n",
       "      <td>982.4</td>\n",
       "      <td>982.4</td>\n",
       "      <td>958.55</td>\n",
       "      <td>961.20</td>\n",
       "      <td>962.65</td>\n",
       "      <td>969.94</td>\n",
       "      <td>3830750</td>\n",
       "      <td>3.715586e+14</td>\n",
       "      <td>NaN</td>\n",
       "      <td>976527</td>\n",
       "      <td>0.2549</td>\n",
       "    </tr>\n",
       "    <tr>\n",
       "      <th>3</th>\n",
       "      <td>2004-08-30</td>\n",
       "      <td>TCS</td>\n",
       "      <td>EQ</td>\n",
       "      <td>962.65</td>\n",
       "      <td>969.9</td>\n",
       "      <td>990.0</td>\n",
       "      <td>965.00</td>\n",
       "      <td>986.40</td>\n",
       "      <td>986.75</td>\n",
       "      <td>982.65</td>\n",
       "      <td>3058151</td>\n",
       "      <td>3.005106e+14</td>\n",
       "      <td>NaN</td>\n",
       "      <td>701664</td>\n",
       "      <td>0.2294</td>\n",
       "    </tr>\n",
       "    <tr>\n",
       "      <th>4</th>\n",
       "      <td>2004-08-31</td>\n",
       "      <td>TCS</td>\n",
       "      <td>EQ</td>\n",
       "      <td>986.75</td>\n",
       "      <td>986.5</td>\n",
       "      <td>990.0</td>\n",
       "      <td>976.00</td>\n",
       "      <td>987.80</td>\n",
       "      <td>988.10</td>\n",
       "      <td>982.18</td>\n",
       "      <td>2649332</td>\n",
       "      <td>2.602133e+14</td>\n",
       "      <td>NaN</td>\n",
       "      <td>695234</td>\n",
       "      <td>0.2624</td>\n",
       "    </tr>\n",
       "  </tbody>\n",
       "</table>\n",
       "</div>"
      ],
      "text/plain": [
       "         Date Symbol Series  Prev Close    Open    High     Low    Last  \\\n",
       "0  2004-08-25    TCS     EQ      850.00  1198.7  1198.7  979.00  985.00   \n",
       "1  2004-08-26    TCS     EQ      987.95   992.0   997.0  975.30  976.85   \n",
       "2  2004-08-27    TCS     EQ      979.00   982.4   982.4  958.55  961.20   \n",
       "3  2004-08-30    TCS     EQ      962.65   969.9   990.0  965.00  986.40   \n",
       "4  2004-08-31    TCS     EQ      986.75   986.5   990.0  976.00  987.80   \n",
       "\n",
       "    Close     VWAP    Volume      Turnover  Trades  Deliverable Volume  \\\n",
       "0  987.95  1008.32  17116372  1.725876e+15     NaN             5206360   \n",
       "1  979.00   985.65   5055400  4.982865e+14     NaN             1294899   \n",
       "2  962.65   969.94   3830750  3.715586e+14     NaN              976527   \n",
       "3  986.75   982.65   3058151  3.005106e+14     NaN              701664   \n",
       "4  988.10   982.18   2649332  2.602133e+14     NaN              695234   \n",
       "\n",
       "   %Deliverble  \n",
       "0       0.3042  \n",
       "1       0.2561  \n",
       "2       0.2549  \n",
       "3       0.2294  \n",
       "4       0.2624  "
      ]
     },
     "execution_count": 4,
     "metadata": {},
     "output_type": "execute_result"
    }
   ],
   "source": [
    "df.head()"
   ]
  },
  {
   "cell_type": "code",
   "execution_count": 5,
   "id": "1f466d4a",
   "metadata": {
    "execution": {
     "iopub.execute_input": "2023-08-11T19:08:56.763804Z",
     "iopub.status.busy": "2023-08-11T19:08:56.763341Z",
     "iopub.status.idle": "2023-08-11T19:08:56.798898Z",
     "shell.execute_reply": "2023-08-11T19:08:56.797256Z"
    },
    "papermill": {
     "duration": 0.045389,
     "end_time": "2023-08-11T19:08:56.801803",
     "exception": false,
     "start_time": "2023-08-11T19:08:56.756414",
     "status": "completed"
    },
    "tags": []
   },
   "outputs": [
    {
     "name": "stdout",
     "output_type": "stream",
     "text": [
      "<class 'pandas.core.frame.DataFrame'>\n",
      "RangeIndex: 4139 entries, 0 to 4138\n",
      "Data columns (total 15 columns):\n",
      " #   Column              Non-Null Count  Dtype  \n",
      "---  ------              --------------  -----  \n",
      " 0   Date                4139 non-null   object \n",
      " 1   Symbol              4139 non-null   object \n",
      " 2   Series              4139 non-null   object \n",
      " 3   Prev Close          4139 non-null   float64\n",
      " 4   Open                4139 non-null   float64\n",
      " 5   High                4139 non-null   float64\n",
      " 6   Low                 4139 non-null   float64\n",
      " 7   Last                4139 non-null   float64\n",
      " 8   Close               4139 non-null   float64\n",
      " 9   VWAP                4139 non-null   float64\n",
      " 10  Volume              4139 non-null   int64  \n",
      " 11  Turnover            4139 non-null   float64\n",
      " 12  Trades              2456 non-null   float64\n",
      " 13  Deliverable Volume  4139 non-null   int64  \n",
      " 14  %Deliverble         4139 non-null   float64\n",
      "dtypes: float64(10), int64(2), object(3)\n",
      "memory usage: 485.2+ KB\n"
     ]
    }
   ],
   "source": [
    "#checking for null values and the types of data\n",
    "df.info()"
   ]
  },
  {
   "cell_type": "code",
   "execution_count": 6,
   "id": "a7d1ca23",
   "metadata": {
    "execution": {
     "iopub.execute_input": "2023-08-11T19:08:56.815058Z",
     "iopub.status.busy": "2023-08-11T19:08:56.814670Z",
     "iopub.status.idle": "2023-08-11T19:08:56.872064Z",
     "shell.execute_reply": "2023-08-11T19:08:56.870871Z"
    },
    "papermill": {
     "duration": 0.067024,
     "end_time": "2023-08-11T19:08:56.874661",
     "exception": false,
     "start_time": "2023-08-11T19:08:56.807637",
     "status": "completed"
    },
    "tags": []
   },
   "outputs": [
    {
     "data": {
      "text/html": [
       "<div>\n",
       "<style scoped>\n",
       "    .dataframe tbody tr th:only-of-type {\n",
       "        vertical-align: middle;\n",
       "    }\n",
       "\n",
       "    .dataframe tbody tr th {\n",
       "        vertical-align: top;\n",
       "    }\n",
       "\n",
       "    .dataframe thead th {\n",
       "        text-align: right;\n",
       "    }\n",
       "</style>\n",
       "<table border=\"1\" class=\"dataframe\">\n",
       "  <thead>\n",
       "    <tr style=\"text-align: right;\">\n",
       "      <th></th>\n",
       "      <th>Prev Close</th>\n",
       "      <th>Open</th>\n",
       "      <th>High</th>\n",
       "      <th>Low</th>\n",
       "      <th>Last</th>\n",
       "      <th>Close</th>\n",
       "      <th>VWAP</th>\n",
       "      <th>Volume</th>\n",
       "      <th>Turnover</th>\n",
       "      <th>Trades</th>\n",
       "      <th>Deliverable Volume</th>\n",
       "      <th>%Deliverble</th>\n",
       "    </tr>\n",
       "  </thead>\n",
       "  <tbody>\n",
       "    <tr>\n",
       "      <th>count</th>\n",
       "      <td>4139.000000</td>\n",
       "      <td>4139.000000</td>\n",
       "      <td>4139.000000</td>\n",
       "      <td>4139.000000</td>\n",
       "      <td>4139.000000</td>\n",
       "      <td>4139.000000</td>\n",
       "      <td>4139.000000</td>\n",
       "      <td>4.139000e+03</td>\n",
       "      <td>4.139000e+03</td>\n",
       "      <td>2456.000000</td>\n",
       "      <td>4.139000e+03</td>\n",
       "      <td>4139.000000</td>\n",
       "    </tr>\n",
       "    <tr>\n",
       "      <th>mean</th>\n",
       "      <td>1693.843549</td>\n",
       "      <td>1695.594081</td>\n",
       "      <td>1715.882302</td>\n",
       "      <td>1673.585709</td>\n",
       "      <td>1694.310184</td>\n",
       "      <td>1694.371612</td>\n",
       "      <td>1694.618120</td>\n",
       "      <td>1.676762e+06</td>\n",
       "      <td>2.952102e+14</td>\n",
       "      <td>85502.709283</td>\n",
       "      <td>8.952206e+05</td>\n",
       "      <td>0.549429</td>\n",
       "    </tr>\n",
       "    <tr>\n",
       "      <th>std</th>\n",
       "      <td>722.879316</td>\n",
       "      <td>722.978228</td>\n",
       "      <td>728.450096</td>\n",
       "      <td>717.780248</td>\n",
       "      <td>723.177934</td>\n",
       "      <td>723.061025</td>\n",
       "      <td>723.144157</td>\n",
       "      <td>1.607879e+06</td>\n",
       "      <td>3.849370e+14</td>\n",
       "      <td>56031.488595</td>\n",
       "      <td>8.637908e+05</td>\n",
       "      <td>0.132867</td>\n",
       "    </tr>\n",
       "    <tr>\n",
       "      <th>min</th>\n",
       "      <td>366.650000</td>\n",
       "      <td>360.000000</td>\n",
       "      <td>377.750000</td>\n",
       "      <td>358.000000</td>\n",
       "      <td>365.700000</td>\n",
       "      <td>366.650000</td>\n",
       "      <td>368.400000</td>\n",
       "      <td>1.834500e+04</td>\n",
       "      <td>1.370237e+12</td>\n",
       "      <td>1219.000000</td>\n",
       "      <td>7.765000e+03</td>\n",
       "      <td>0.121400</td>\n",
       "    </tr>\n",
       "    <tr>\n",
       "      <th>25%</th>\n",
       "      <td>1106.250000</td>\n",
       "      <td>1105.525000</td>\n",
       "      <td>1120.275000</td>\n",
       "      <td>1088.575000</td>\n",
       "      <td>1107.000000</td>\n",
       "      <td>1106.500000</td>\n",
       "      <td>1105.750000</td>\n",
       "      <td>7.884775e+05</td>\n",
       "      <td>1.050834e+14</td>\n",
       "      <td>46749.500000</td>\n",
       "      <td>4.334740e+05</td>\n",
       "      <td>0.459100</td>\n",
       "    </tr>\n",
       "    <tr>\n",
       "      <th>50%</th>\n",
       "      <td>1633.500000</td>\n",
       "      <td>1625.000000</td>\n",
       "      <td>1655.000000</td>\n",
       "      <td>1610.000000</td>\n",
       "      <td>1630.050000</td>\n",
       "      <td>1636.350000</td>\n",
       "      <td>1629.420000</td>\n",
       "      <td>1.227748e+06</td>\n",
       "      <td>1.824973e+14</td>\n",
       "      <td>68901.000000</td>\n",
       "      <td>7.052640e+05</td>\n",
       "      <td>0.553800</td>\n",
       "    </tr>\n",
       "    <tr>\n",
       "      <th>75%</th>\n",
       "      <td>2326.125000</td>\n",
       "      <td>2321.800000</td>\n",
       "      <td>2345.000000</td>\n",
       "      <td>2301.300000</td>\n",
       "      <td>2325.000000</td>\n",
       "      <td>2326.850000</td>\n",
       "      <td>2319.895000</td>\n",
       "      <td>2.081120e+06</td>\n",
       "      <td>3.455393e+14</td>\n",
       "      <td>110630.250000</td>\n",
       "      <td>1.136132e+06</td>\n",
       "      <td>0.646850</td>\n",
       "    </tr>\n",
       "    <tr>\n",
       "      <th>max</th>\n",
       "      <td>3603.700000</td>\n",
       "      <td>3625.000000</td>\n",
       "      <td>3674.800000</td>\n",
       "      <td>3572.550000</td>\n",
       "      <td>3610.750000</td>\n",
       "      <td>3603.700000</td>\n",
       "      <td>3633.110000</td>\n",
       "      <td>4.403358e+07</td>\n",
       "      <td>1.268362e+16</td>\n",
       "      <td>542541.000000</td>\n",
       "      <td>3.155626e+07</td>\n",
       "      <td>0.962200</td>\n",
       "    </tr>\n",
       "  </tbody>\n",
       "</table>\n",
       "</div>"
      ],
      "text/plain": [
       "        Prev Close         Open         High          Low         Last  \\\n",
       "count  4139.000000  4139.000000  4139.000000  4139.000000  4139.000000   \n",
       "mean   1693.843549  1695.594081  1715.882302  1673.585709  1694.310184   \n",
       "std     722.879316   722.978228   728.450096   717.780248   723.177934   \n",
       "min     366.650000   360.000000   377.750000   358.000000   365.700000   \n",
       "25%    1106.250000  1105.525000  1120.275000  1088.575000  1107.000000   \n",
       "50%    1633.500000  1625.000000  1655.000000  1610.000000  1630.050000   \n",
       "75%    2326.125000  2321.800000  2345.000000  2301.300000  2325.000000   \n",
       "max    3603.700000  3625.000000  3674.800000  3572.550000  3610.750000   \n",
       "\n",
       "             Close         VWAP        Volume      Turnover         Trades  \\\n",
       "count  4139.000000  4139.000000  4.139000e+03  4.139000e+03    2456.000000   \n",
       "mean   1694.371612  1694.618120  1.676762e+06  2.952102e+14   85502.709283   \n",
       "std     723.061025   723.144157  1.607879e+06  3.849370e+14   56031.488595   \n",
       "min     366.650000   368.400000  1.834500e+04  1.370237e+12    1219.000000   \n",
       "25%    1106.500000  1105.750000  7.884775e+05  1.050834e+14   46749.500000   \n",
       "50%    1636.350000  1629.420000  1.227748e+06  1.824973e+14   68901.000000   \n",
       "75%    2326.850000  2319.895000  2.081120e+06  3.455393e+14  110630.250000   \n",
       "max    3603.700000  3633.110000  4.403358e+07  1.268362e+16  542541.000000   \n",
       "\n",
       "       Deliverable Volume  %Deliverble  \n",
       "count        4.139000e+03  4139.000000  \n",
       "mean         8.952206e+05     0.549429  \n",
       "std          8.637908e+05     0.132867  \n",
       "min          7.765000e+03     0.121400  \n",
       "25%          4.334740e+05     0.459100  \n",
       "50%          7.052640e+05     0.553800  \n",
       "75%          1.136132e+06     0.646850  \n",
       "max          3.155626e+07     0.962200  "
      ]
     },
     "execution_count": 6,
     "metadata": {},
     "output_type": "execute_result"
    }
   ],
   "source": [
    "df.describe()"
   ]
  },
  {
   "cell_type": "code",
   "execution_count": 7,
   "id": "c4ebfa23",
   "metadata": {
    "execution": {
     "iopub.execute_input": "2023-08-11T19:08:56.888926Z",
     "iopub.status.busy": "2023-08-11T19:08:56.888467Z",
     "iopub.status.idle": "2023-08-11T19:08:56.895233Z",
     "shell.execute_reply": "2023-08-11T19:08:56.894027Z"
    },
    "papermill": {
     "duration": 0.01695,
     "end_time": "2023-08-11T19:08:56.897785",
     "exception": false,
     "start_time": "2023-08-11T19:08:56.880835",
     "status": "completed"
    },
    "tags": []
   },
   "outputs": [],
   "source": [
    "dfr = df[['Close','Open','High','Low','Last','Prev Close']]"
   ]
  },
  {
   "cell_type": "code",
   "execution_count": 8,
   "id": "1ad45033",
   "metadata": {
    "execution": {
     "iopub.execute_input": "2023-08-11T19:08:56.911864Z",
     "iopub.status.busy": "2023-08-11T19:08:56.911425Z",
     "iopub.status.idle": "2023-08-11T19:08:56.942674Z",
     "shell.execute_reply": "2023-08-11T19:08:56.941789Z"
    },
    "papermill": {
     "duration": 0.040935,
     "end_time": "2023-08-11T19:08:56.944940",
     "exception": false,
     "start_time": "2023-08-11T19:08:56.904005",
     "status": "completed"
    },
    "tags": []
   },
   "outputs": [
    {
     "data": {
      "text/html": [
       "<div>\n",
       "<style scoped>\n",
       "    .dataframe tbody tr th:only-of-type {\n",
       "        vertical-align: middle;\n",
       "    }\n",
       "\n",
       "    .dataframe tbody tr th {\n",
       "        vertical-align: top;\n",
       "    }\n",
       "\n",
       "    .dataframe thead th {\n",
       "        text-align: right;\n",
       "    }\n",
       "</style>\n",
       "<table border=\"1\" class=\"dataframe\">\n",
       "  <thead>\n",
       "    <tr style=\"text-align: right;\">\n",
       "      <th></th>\n",
       "      <th>Close</th>\n",
       "      <th>Open</th>\n",
       "      <th>High</th>\n",
       "      <th>Low</th>\n",
       "      <th>Last</th>\n",
       "      <th>Prev Close</th>\n",
       "    </tr>\n",
       "  </thead>\n",
       "  <tbody>\n",
       "    <tr>\n",
       "      <th>count</th>\n",
       "      <td>4139.000000</td>\n",
       "      <td>4139.000000</td>\n",
       "      <td>4139.000000</td>\n",
       "      <td>4139.000000</td>\n",
       "      <td>4139.000000</td>\n",
       "      <td>4139.000000</td>\n",
       "    </tr>\n",
       "    <tr>\n",
       "      <th>mean</th>\n",
       "      <td>1694.371612</td>\n",
       "      <td>1695.594081</td>\n",
       "      <td>1715.882302</td>\n",
       "      <td>1673.585709</td>\n",
       "      <td>1694.310184</td>\n",
       "      <td>1693.843549</td>\n",
       "    </tr>\n",
       "    <tr>\n",
       "      <th>std</th>\n",
       "      <td>723.061025</td>\n",
       "      <td>722.978228</td>\n",
       "      <td>728.450096</td>\n",
       "      <td>717.780248</td>\n",
       "      <td>723.177934</td>\n",
       "      <td>722.879316</td>\n",
       "    </tr>\n",
       "    <tr>\n",
       "      <th>min</th>\n",
       "      <td>366.650000</td>\n",
       "      <td>360.000000</td>\n",
       "      <td>377.750000</td>\n",
       "      <td>358.000000</td>\n",
       "      <td>365.700000</td>\n",
       "      <td>366.650000</td>\n",
       "    </tr>\n",
       "    <tr>\n",
       "      <th>25%</th>\n",
       "      <td>1106.500000</td>\n",
       "      <td>1105.525000</td>\n",
       "      <td>1120.275000</td>\n",
       "      <td>1088.575000</td>\n",
       "      <td>1107.000000</td>\n",
       "      <td>1106.250000</td>\n",
       "    </tr>\n",
       "    <tr>\n",
       "      <th>50%</th>\n",
       "      <td>1636.350000</td>\n",
       "      <td>1625.000000</td>\n",
       "      <td>1655.000000</td>\n",
       "      <td>1610.000000</td>\n",
       "      <td>1630.050000</td>\n",
       "      <td>1633.500000</td>\n",
       "    </tr>\n",
       "    <tr>\n",
       "      <th>75%</th>\n",
       "      <td>2326.850000</td>\n",
       "      <td>2321.800000</td>\n",
       "      <td>2345.000000</td>\n",
       "      <td>2301.300000</td>\n",
       "      <td>2325.000000</td>\n",
       "      <td>2326.125000</td>\n",
       "    </tr>\n",
       "    <tr>\n",
       "      <th>max</th>\n",
       "      <td>3603.700000</td>\n",
       "      <td>3625.000000</td>\n",
       "      <td>3674.800000</td>\n",
       "      <td>3572.550000</td>\n",
       "      <td>3610.750000</td>\n",
       "      <td>3603.700000</td>\n",
       "    </tr>\n",
       "  </tbody>\n",
       "</table>\n",
       "</div>"
      ],
      "text/plain": [
       "             Close         Open         High          Low         Last  \\\n",
       "count  4139.000000  4139.000000  4139.000000  4139.000000  4139.000000   \n",
       "mean   1694.371612  1695.594081  1715.882302  1673.585709  1694.310184   \n",
       "std     723.061025   722.978228   728.450096   717.780248   723.177934   \n",
       "min     366.650000   360.000000   377.750000   358.000000   365.700000   \n",
       "25%    1106.500000  1105.525000  1120.275000  1088.575000  1107.000000   \n",
       "50%    1636.350000  1625.000000  1655.000000  1610.000000  1630.050000   \n",
       "75%    2326.850000  2321.800000  2345.000000  2301.300000  2325.000000   \n",
       "max    3603.700000  3625.000000  3674.800000  3572.550000  3610.750000   \n",
       "\n",
       "        Prev Close  \n",
       "count  4139.000000  \n",
       "mean   1693.843549  \n",
       "std     722.879316  \n",
       "min     366.650000  \n",
       "25%    1106.250000  \n",
       "50%    1633.500000  \n",
       "75%    2326.125000  \n",
       "max    3603.700000  "
      ]
     },
     "execution_count": 8,
     "metadata": {},
     "output_type": "execute_result"
    }
   ],
   "source": [
    "dfr.describe()"
   ]
  },
  {
   "cell_type": "code",
   "execution_count": 9,
   "id": "1e378fd2",
   "metadata": {
    "execution": {
     "iopub.execute_input": "2023-08-11T19:08:56.959745Z",
     "iopub.status.busy": "2023-08-11T19:08:56.959311Z",
     "iopub.status.idle": "2023-08-11T19:08:56.977591Z",
     "shell.execute_reply": "2023-08-11T19:08:56.976427Z"
    },
    "papermill": {
     "duration": 0.02882,
     "end_time": "2023-08-11T19:08:56.980211",
     "exception": false,
     "start_time": "2023-08-11T19:08:56.951391",
     "status": "completed"
    },
    "tags": []
   },
   "outputs": [
    {
     "data": {
      "text/html": [
       "<div>\n",
       "<style scoped>\n",
       "    .dataframe tbody tr th:only-of-type {\n",
       "        vertical-align: middle;\n",
       "    }\n",
       "\n",
       "    .dataframe tbody tr th {\n",
       "        vertical-align: top;\n",
       "    }\n",
       "\n",
       "    .dataframe thead th {\n",
       "        text-align: right;\n",
       "    }\n",
       "</style>\n",
       "<table border=\"1\" class=\"dataframe\">\n",
       "  <thead>\n",
       "    <tr style=\"text-align: right;\">\n",
       "      <th></th>\n",
       "      <th>Close</th>\n",
       "      <th>Open</th>\n",
       "      <th>High</th>\n",
       "      <th>Low</th>\n",
       "      <th>Last</th>\n",
       "      <th>Prev Close</th>\n",
       "    </tr>\n",
       "  </thead>\n",
       "  <tbody>\n",
       "    <tr>\n",
       "      <th>Close</th>\n",
       "      <td>1.000000</td>\n",
       "      <td>0.999206</td>\n",
       "      <td>0.999645</td>\n",
       "      <td>0.999651</td>\n",
       "      <td>0.999981</td>\n",
       "      <td>0.998135</td>\n",
       "    </tr>\n",
       "    <tr>\n",
       "      <th>Open</th>\n",
       "      <td>0.999206</td>\n",
       "      <td>1.000000</td>\n",
       "      <td>0.999578</td>\n",
       "      <td>0.999563</td>\n",
       "      <td>0.999189</td>\n",
       "      <td>0.998782</td>\n",
       "    </tr>\n",
       "    <tr>\n",
       "      <th>High</th>\n",
       "      <td>0.999645</td>\n",
       "      <td>0.999578</td>\n",
       "      <td>1.000000</td>\n",
       "      <td>0.999459</td>\n",
       "      <td>0.999623</td>\n",
       "      <td>0.998465</td>\n",
       "    </tr>\n",
       "    <tr>\n",
       "      <th>Low</th>\n",
       "      <td>0.999651</td>\n",
       "      <td>0.999563</td>\n",
       "      <td>0.999459</td>\n",
       "      <td>1.000000</td>\n",
       "      <td>0.999628</td>\n",
       "      <td>0.998480</td>\n",
       "    </tr>\n",
       "    <tr>\n",
       "      <th>Last</th>\n",
       "      <td>0.999981</td>\n",
       "      <td>0.999189</td>\n",
       "      <td>0.999623</td>\n",
       "      <td>0.999628</td>\n",
       "      <td>1.000000</td>\n",
       "      <td>0.998124</td>\n",
       "    </tr>\n",
       "    <tr>\n",
       "      <th>Prev Close</th>\n",
       "      <td>0.998135</td>\n",
       "      <td>0.998782</td>\n",
       "      <td>0.998465</td>\n",
       "      <td>0.998480</td>\n",
       "      <td>0.998124</td>\n",
       "      <td>1.000000</td>\n",
       "    </tr>\n",
       "  </tbody>\n",
       "</table>\n",
       "</div>"
      ],
      "text/plain": [
       "               Close      Open      High       Low      Last  Prev Close\n",
       "Close       1.000000  0.999206  0.999645  0.999651  0.999981    0.998135\n",
       "Open        0.999206  1.000000  0.999578  0.999563  0.999189    0.998782\n",
       "High        0.999645  0.999578  1.000000  0.999459  0.999623    0.998465\n",
       "Low         0.999651  0.999563  0.999459  1.000000  0.999628    0.998480\n",
       "Last        0.999981  0.999189  0.999623  0.999628  1.000000    0.998124\n",
       "Prev Close  0.998135  0.998782  0.998465  0.998480  0.998124    1.000000"
      ]
     },
     "execution_count": 9,
     "metadata": {},
     "output_type": "execute_result"
    }
   ],
   "source": [
    "cor_matrix = dfr.corr()\n",
    "cor_matrix"
   ]
  },
  {
   "cell_type": "code",
   "execution_count": 10,
   "id": "ffecb301",
   "metadata": {
    "execution": {
     "iopub.execute_input": "2023-08-11T19:08:56.995493Z",
     "iopub.status.busy": "2023-08-11T19:08:56.995105Z",
     "iopub.status.idle": "2023-08-11T19:08:57.456929Z",
     "shell.execute_reply": "2023-08-11T19:08:57.455600Z"
    },
    "papermill": {
     "duration": 0.472318,
     "end_time": "2023-08-11T19:08:57.459375",
     "exception": false,
     "start_time": "2023-08-11T19:08:56.987057",
     "status": "completed"
    },
    "tags": []
   },
   "outputs": [
    {
     "data": {
      "text/plain": [
       "Text(0.5, 1.0, 'Correlation of Variables ')"
      ]
     },
     "execution_count": 10,
     "metadata": {},
     "output_type": "execute_result"
    },
    {
     "data": {
      "image/png": "[encoded data removed]",
      "text/plain": [
       "<Figure size 640x480 with 2 Axes>"
      ]
     },
     "metadata": {},
     "output_type": "display_data"
    }
   ],
   "source": [
    "sns.heatmap(cor_matrix , cmap = 'coolwarm' , annot = False)\n",
    "plt.title('Correlation of Variables ')"
   ]
  },
  {
   "cell_type": "code",
   "execution_count": 11,
   "id": "072c7992",
   "metadata": {
    "execution": {
     "iopub.execute_input": "2023-08-11T19:08:57.476216Z",
     "iopub.status.busy": "2023-08-11T19:08:57.475755Z",
     "iopub.status.idle": "2023-08-11T19:08:58.243365Z",
     "shell.execute_reply": "2023-08-11T19:08:58.242205Z"
    },
    "papermill": {
     "duration": 0.779135,
     "end_time": "2023-08-11T19:08:58.246040",
     "exception": false,
     "start_time": "2023-08-11T19:08:57.466905",
     "status": "completed"
    },
    "tags": []
   },
   "outputs": [
    {
     "data": {
      "text/plain": [
       "Text(0.5, 1.0, 'Relationship of Closing and Opening price')"
      ]
     },
     "execution_count": 11,
     "metadata": {},
     "output_type": "execute_result"
    },
    {
     "data": {
      "image/png": "[encoded data removed]",
      "text/plain": [
       "<Figure size 640x480 with 1 Axes>"
      ]
     },
     "metadata": {},
     "output_type": "display_data"
    }
   ],
   "source": [
    "sns.regplot(x = df[['Close']], y = df[['Open']], data= df)\n",
    "plt.title(\"Relationship of Closing and Opening price\")"
   ]
  }
 ],
 "metadata": {
  "kernelspec": {
   "display_name": "Python 3",
   "language": "python",
   "name": "python3"
  },
  "language_info": {
   "codemirror_mode": {
    "name": "ipython",
    "version": 3
   },
   "file_extension": ".py",
   "mimetype": "text/x-python",
   "name": "python",
   "nbconvert_exporter": "python",
   "pygments_lexer": "ipython3",
   "version": "3.10.12"
  },
  "papermill": {
   "default_parameters": {},
   "duration": 16.466603,
   "end_time": "2023-08-11T19:08:59.282074",
   "environment_variables": {},
   "exception": null,
   "input_path": "__notebook__.ipynb",
   "output_path": "__notebook__.ipynb",
   "parameters": {},
   "start_time": "2023-08-11T19:08:42.815471",
   "version": "2.4.0"
  }
 },
 "nbformat": 4,
 "nbformat_minor": 5
}
